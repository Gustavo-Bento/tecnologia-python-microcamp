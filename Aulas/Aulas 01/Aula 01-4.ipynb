{
 "cells": [
  {
   "cell_type": "markdown",
   "metadata": {},
   "source": [
    "# Aula 01-4"
   ]
  },
  {
   "cell_type": "markdown",
   "metadata": {
    "vscode": {
     "languageId": "plaintext"
    }
   },
   "source": [
    "## Introdução a Dicionarios"
   ]
  },
  {
   "cell_type": "code",
   "execution_count": 1,
   "metadata": {},
   "outputs": [
    {
     "name": "stdout",
     "output_type": "stream",
     "text": [
      "<class 'dict'>\n"
     ]
    }
   ],
   "source": [
    "curso = {}\n",
    "print(type(curso))"
   ]
  },
  {
   "cell_type": "code",
   "execution_count": 8,
   "metadata": {},
   "outputs": [
    {
     "name": "stdout",
     "output_type": "stream",
     "text": [
      "dict_keys(['Aula 01'])\n",
      "dict_values(['Introdução a Python'])\n"
     ]
    }
   ],
   "source": [
    "curso = {'Aula 01':'Introdução a Python'}\n",
    "print(curso.keys())\n",
    "print(curso.values())"
   ]
  },
  {
   "cell_type": "code",
   "execution_count": 13,
   "metadata": {},
   "outputs": [
    {
     "data": {
      "text/plain": [
       "'Introdução a Python'"
      ]
     },
     "execution_count": 13,
     "metadata": {},
     "output_type": "execute_result"
    }
   ],
   "source": [
    "curso.get('Aula 01')"
   ]
  },
  {
   "cell_type": "code",
   "execution_count": 19,
   "metadata": {},
   "outputs": [
    {
     "name": "stdout",
     "output_type": "stream",
     "text": [
      "Python\n",
      "JavaScript\n",
      "PHP\n"
     ]
    }
   ],
   "source": [
    "matricula = {\n",
    "    \"1910293\":\"Python\",\n",
    "    \"1910299\":\"JavaScript\",\n",
    "    \"1910291\":\"PHP\"\n",
    "}\n",
    "print(matricula.get('1910293'))\n",
    "print(matricula.get('1910299'))\n",
    "print(matricula.get('1910291'))"
   ]
  },
  {
   "cell_type": "code",
   "execution_count": 25,
   "metadata": {},
   "outputs": [
    {
     "name": "stdout",
     "output_type": "stream",
     "text": [
      "dict_keys(['curso', 'ano', 'professor', 'aluno'])\n",
      "dict_values(['Tecnologia da Informação', 2024, 'Gustavo Ferreira', 'Everton'])\n"
     ]
    }
   ],
   "source": [
    "microcamp = {\n",
    "    \"curso\":\"Tecnologia da Informação\",\n",
    "    \"ano\":2024,\n",
    "    \"professor\":\"Gustavo Ferreira\",\n",
    "    \"aluno\":\"Everton\"\n",
    "}\n",
    "print(microcamp.keys())\n",
    "print(microcamp.values())"
   ]
  },
  {
   "cell_type": "code",
   "execution_count": 35,
   "metadata": {},
   "outputs": [
    {
     "data": {
      "text/plain": [
       "dict_items([('curso', 'Tecnologia da Informação'), ('ano', 2024), ('professor', 'Gustavo Ferreira'), ('aluno', 'Everton')])"
      ]
     },
     "execution_count": 35,
     "metadata": {},
     "output_type": "execute_result"
    }
   ],
   "source": [
    "microcamp.items()"
   ]
  },
  {
   "cell_type": "code",
   "execution_count": 37,
   "metadata": {},
   "outputs": [
    {
     "data": {
      "text/plain": [
       "('aluno', 'Everton')"
      ]
     },
     "execution_count": 37,
     "metadata": {},
     "output_type": "execute_result"
    }
   ],
   "source": [
    "microcamp.popitem()"
   ]
  },
  {
   "cell_type": "code",
   "execution_count": 38,
   "metadata": {},
   "outputs": [
    {
     "data": {
      "text/plain": [
       "('professor', 'Gustavo Ferreira')"
      ]
     },
     "execution_count": 38,
     "metadata": {},
     "output_type": "execute_result"
    }
   ],
   "source": [
    "microcamp.popitem()"
   ]
  },
  {
   "cell_type": "code",
   "execution_count": 47,
   "metadata": {},
   "outputs": [],
   "source": [
    "microcamp.popitem()\n",
    "microcamp.popitem()\n",
    "microcamp.update({\"professor\":\"Gustavo\"})"
   ]
  },
  {
   "cell_type": "code",
   "execution_count": 48,
   "metadata": {},
   "outputs": [
    {
     "name": "stdout",
     "output_type": "stream",
     "text": [
      "dict_items([('curso', 'Tecnologia da Informação'), ('ano', 2024), ('professor', 'Gustavo')])\n"
     ]
    }
   ],
   "source": [
    "print(microcamp.items())"
   ]
  }
 ],
 "metadata": {
  "kernelspec": {
   "display_name": "Python 3",
   "language": "python",
   "name": "python3"
  },
  "language_info": {
   "codemirror_mode": {
    "name": "ipython",
    "version": 3
   },
   "file_extension": ".py",
   "mimetype": "text/x-python",
   "name": "python",
   "nbconvert_exporter": "python",
   "pygments_lexer": "ipython3",
   "version": "3.12.0"
  }
 },
 "nbformat": 4,
 "nbformat_minor": 2
}
