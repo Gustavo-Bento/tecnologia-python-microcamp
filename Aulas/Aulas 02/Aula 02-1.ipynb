{
 "cells": [
  {
   "cell_type": "markdown",
   "metadata": {
    "vscode": {
     "languageId": "plaintext"
    }
   },
   "source": [
    "# Aula 02-1"
   ]
  },
  {
   "cell_type": "markdown",
   "metadata": {},
   "source": [
    "## Introdução a Estrutura de Decisão"
   ]
  },
  {
   "cell_type": "markdown",
   "metadata": {},
   "source": [
    "> Uma estrutura de decisão é definida quando o algoritmo necessitar atraves de uma condição qual caminho irá percorrer, aplicando a programação declarada no bloco. Dentro do parametro inserimos através de operadores lógicos ou relacionais, condições, retornando valores booleanos (verdadeiro ou falso)."
   ]
  },
  {
   "cell_type": "markdown",
   "metadata": {},
   "source": [
    "## Se Simples"
   ]
  },
  {
   "cell_type": "code",
   "execution_count": 1,
   "metadata": {},
   "outputs": [
    {
     "name": "stdout",
     "output_type": "stream",
     "text": [
      "Menor de idade\n"
     ]
    }
   ],
   "source": [
    "idade = 12\n",
    "if(idade>=18):\n",
    "    print(\"Maior de idade\")\n",
    "else: \n",
    "    print(\"Menor de idade\")"
   ]
  },
  {
   "cell_type": "code",
   "execution_count": 6,
   "metadata": {},
   "outputs": [
    {
     "name": "stdout",
     "output_type": "stream",
     "text": [
      "Desconto de 5%\n",
      "Saldo: R$ 372.50\n"
     ]
    }
   ],
   "source": [
    "desconto = 0.05\n",
    "idade = 70\n",
    "saldo = 800\n",
    "divida = 450\n",
    "\n",
    "if(idade>=60):\n",
    "    print(\"Desconto de 5%\")\n",
    "    saldo-=(divida-(divida*desconto))\n",
    "    print(f\"Saldo: R$ {saldo:.2f}\")\n",
    "else:\n",
    "    saldo-=divida\n",
    "    print(f\"Saldo: R$ {saldo:.2f}\")"
   ]
  },
  {
   "cell_type": "markdown",
   "metadata": {},
   "source": [
    "### Exercício 01\n",
    "> Crie um programa que receba o deposito de 500 reais. Após enviar um pix de 200 reais e um o pagamento de um DOC de 140 reais mostre o saldo. O DOC cobra uma taxa de 5%. Se for maior de 60 anos não é cobrado. Mostre o saldo. "
   ]
  },
  {
   "cell_type": "code",
   "execution_count": 13,
   "metadata": {},
   "outputs": [
    {
     "name": "stdout",
     "output_type": "stream",
     "text": [
      "Seu saldo é R$ 160.00\n"
     ]
    }
   ],
   "source": [
    "saldo = 0\n",
    "deposito = 500\n",
    "pix = 200\n",
    "doc = 140\n",
    "idade = 50\n",
    "\n",
    "if(idade<60):\n",
    "    saldo = deposito-pix-doc\n",
    "else:\n",
    "    saldo = deposito-pix-(doc-(doc*0.05))\n",
    "print(f\"Seu saldo é R$ {saldo:.2f}\")"
   ]
  },
  {
   "cell_type": "markdown",
   "metadata": {},
   "source": [
    "### Exercício 02\n",
    "> Crie um programa que aprove a compra de um carro. Até 30 anos de idade recebe um desconto de 5%. Até 50 anos de idade recebe um desconto de 12% e acima disso, 15%. O saldo para a compra do carro é 50.000,00 e o valor do carro é 44.500,00. Mostre o saldo após a compra e o valor pago de fato pelo veiculo."
   ]
  },
  {
   "cell_type": "code",
   "execution_count": 17,
   "metadata": {},
   "outputs": [
    {
     "name": "stdout",
     "output_type": "stream",
     "text": [
      "O saldo após a compra é: R$ 7725.00\n",
      "O valor pago pelo veículo foi: R$ 42275.00\n"
     ]
    }
   ],
   "source": [
    "carro = 44500\n",
    "saldo = 50000\n",
    "idade = 29\n",
    "\n",
    "if(idade>50):\n",
    "    carro = carro -(carro*0.15)\n",
    "elif(idade>30):\n",
    "    carro = carro -(carro*0.12)\n",
    "else:\n",
    "    carro = carro -(carro*0.05)\n",
    "saldo = saldo-carro\n",
    "print(f\"O saldo após a compra é: R$ {saldo:.2f}\")\n",
    "print(f\"O valor pago pelo veículo foi: R$ {carro:.2f}\")"
   ]
  }
 ],
 "metadata": {
  "kernelspec": {
   "display_name": "Python 3",
   "language": "python",
   "name": "python3"
  },
  "language_info": {
   "codemirror_mode": {
    "name": "ipython",
    "version": 3
   },
   "file_extension": ".py",
   "mimetype": "text/x-python",
   "name": "python",
   "nbconvert_exporter": "python",
   "pygments_lexer": "ipython3",
   "version": "3.12.0"
  }
 },
 "nbformat": 4,
 "nbformat_minor": 2
}
