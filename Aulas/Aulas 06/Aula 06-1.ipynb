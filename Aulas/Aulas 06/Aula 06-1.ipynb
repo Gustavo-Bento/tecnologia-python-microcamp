{
 "cells": [
  {
   "cell_type": "markdown",
   "metadata": {},
   "source": [
    "# Aula 06 - Introdução a List Comprehension\n",
    "\n",
    ">List Comprehension é uma lista que aplica dentro dela uma laço, assim como o metódo map, mapeia um conjunto de dados, convertendo e calculando os valores para uma nova lista declarada. Isso torna o código mais simples e reduz a quantidade de código."
   ]
  },
  {
   "cell_type": "markdown",
   "metadata": {},
   "source": [
    "## Exemplo 1"
   ]
  },
  {
   "cell_type": "code",
   "execution_count": 4,
   "metadata": {},
   "outputs": [
    {
     "name": "stdout",
     "output_type": "stream",
     "text": [
      "1.41\n",
      "2.0\n",
      "3.0\n",
      "4.0\n",
      "5.0\n",
      "6.0\n",
      "7.0\n"
     ]
    }
   ],
   "source": [
    "from math import sqrt as raiz\n",
    "numeros = [2,4,9,16,25,36,49]\n",
    "potencia = [round(raiz(x),2) for x in numeros]\n",
    "for x in potencia:\n",
    "    print(x)"
   ]
  },
  {
   "cell_type": "markdown",
   "metadata": {},
   "source": [
    "## Exemplo 2"
   ]
  },
  {
   "cell_type": "code",
   "execution_count": 2,
   "metadata": {},
   "outputs": [
    {
     "name": "stdout",
     "output_type": "stream",
     "text": [
      "1.0\n",
      "4.0\n",
      "9.0\n",
      "16.0\n",
      "25.0\n",
      "36.0\n",
      "49.0\n"
     ]
    }
   ],
   "source": [
    "from math import pow as pot\n",
    "numeros = [1,2,3,4,5,6,7]\n",
    "raiz = [pot(x,2) for x in numeros]\n",
    "for x in raiz:\n",
    "    print(x)\n"
   ]
  },
  {
   "cell_type": "markdown",
   "metadata": {},
   "source": [
    "## Exercício 1\n",
    "\n",
    ">Converta a lista quilometragem com os valores: 40, 50, 56, 64, 73, 79, 85, 96, 100 e 120 para valores em milhas e após mostre os valores convertidos."
   ]
  },
  {
   "cell_type": "code",
   "execution_count": 12,
   "metadata": {},
   "outputs": [
    {
     "name": "stdout",
     "output_type": "stream",
     "text": [
      "Kmh  Mph  \n",
      "----------\n",
      "40   24.85\n",
      "50   31.06\n",
      "56   34.79\n",
      "64   39.76\n",
      "73   45.35\n",
      "79   49.08\n",
      "85   52.81\n",
      "96   59.64\n",
      "100  62.13\n"
     ]
    }
   ],
   "source": [
    "kmh = [40,50,56,64,73,79,85,96,100,120]\n",
    "mph = [round(x*0.6213,2) for x in kmh]\n",
    "print(\"{:<5}{:<5}\".format(\"Kmh\",\"Mph\"))\n",
    "print(\"----------\")\n",
    "for x in range(0,len(kmh)-1):\n",
    "    print(\"{:<5}{:<5}\".format(kmh[x],mph[x]))"
   ]
  },
  {
   "cell_type": "markdown",
   "metadata": {},
   "source": [
    "## Exercício 2\n",
    ">Utilizando a API de conversão de dolar e euro converta os valores seguintes: 1, 2, 5, 10, 20, 50, 100 e 200 que estão em reais. Após, mostre os valores convertidos."
   ]
  },
  {
   "cell_type": "code",
   "execution_count": 1,
   "metadata": {},
   "outputs": [
    {
     "name": "stdout",
     "output_type": "stream",
     "text": [
      "Requirement already satisfied: requests in c:\\users\\gustavo ferreira\\appdata\\local\\programs\\python\\python312\\lib\\site-packages (2.32.3)\n",
      "Requirement already satisfied: charset-normalizer<4,>=2 in c:\\users\\gustavo ferreira\\appdata\\local\\programs\\python\\python312\\lib\\site-packages (from requests) (3.4.0)\n",
      "Requirement already satisfied: idna<4,>=2.5 in c:\\users\\gustavo ferreira\\appdata\\local\\programs\\python\\python312\\lib\\site-packages (from requests) (3.10)\n",
      "Requirement already satisfied: urllib3<3,>=1.21.1 in c:\\users\\gustavo ferreira\\appdata\\local\\programs\\python\\python312\\lib\\site-packages (from requests) (2.2.3)\n",
      "Requirement already satisfied: certifi>=2017.4.17 in c:\\users\\gustavo ferreira\\appdata\\local\\programs\\python\\python312\\lib\\site-packages (from requests) (2024.8.30)\n",
      "Note: you may need to restart the kernel to use updated packages.\n"
     ]
    },
    {
     "name": "stderr",
     "output_type": "stream",
     "text": [
      "\n",
      "[notice] A new release of pip is available: 23.3.1 -> 24.3.1\n",
      "[notice] To update, run: python.exe -m pip install --upgrade pip\n"
     ]
    }
   ],
   "source": [
    "pip install requests"
   ]
  },
  {
   "cell_type": "code",
   "execution_count": 9,
   "metadata": {},
   "outputs": [
    {
     "name": "stdout",
     "output_type": "stream",
     "text": [
      "Reais Dolar Euro  \n",
      "1     0.17  0.16  \n",
      "2     0.35  0.33  \n",
      "5     0.87  0.81  \n",
      "10    1.74  1.63  \n",
      "20    3.49  3.25  \n",
      "50    8.72  8.14  \n",
      "100   17.43 16.27 \n"
     ]
    }
   ],
   "source": [
    "import requests\n",
    "import json\n",
    "\n",
    "reais = [1,2,5,10,20,50,100,200]\n",
    "#Cotação em Dolar\n",
    "url = \"https://economia.awesomeapi.com.br/json/last/USD-BRL\"\n",
    "cotacao = requests.get(url).content\n",
    "dic = json.loads(cotacao)\n",
    "dolar = [round(x/float(dic[\"USDBRL\"][\"bid\"]),2) for x in reais]\n",
    "\n",
    "#Cotação em Euro\n",
    "url = \"https://economia.awesomeapi.com.br/json/last/EUR-BRL\"\n",
    "cotacao = requests.get(url).content\n",
    "dic = json.loads(cotacao)\n",
    "euro = [round(x/float(dic[\"EURBRL\"][\"bid\"]),2) for x in reais]\n",
    "\n",
    "print(\"{:<6}{:<6}{:<6}\".format(\"Reais\",\"Dolar\",\"Euro\"))\n",
    "for x in range(0,len(reais)-1):\n",
    "    print(\"{:<6}{:<6}{:<6}\".format(reais[x],dolar[x],euro[x]))\n"
   ]
  },
  {
   "cell_type": "code",
   "execution_count": null,
   "metadata": {},
   "outputs": [],
   "source": []
  }
 ],
 "metadata": {
  "kernelspec": {
   "display_name": "Python 3",
   "language": "python",
   "name": "python3"
  },
  "language_info": {
   "codemirror_mode": {
    "name": "ipython",
    "version": 3
   },
   "file_extension": ".py",
   "mimetype": "text/x-python",
   "name": "python",
   "nbconvert_exporter": "python",
   "pygments_lexer": "ipython3",
   "version": "3.12.0"
  }
 },
 "nbformat": 4,
 "nbformat_minor": 2
}
