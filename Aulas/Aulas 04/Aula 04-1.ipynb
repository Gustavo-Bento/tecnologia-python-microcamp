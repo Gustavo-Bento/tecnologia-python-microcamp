{
 "cells": [
  {
   "cell_type": "markdown",
   "metadata": {},
   "source": [
    "# Revisão de métodos\n",
    "\n",
    "## Metodos def\n",
    "Na ultima aula aprendemos os conceitos sobre laços e após desenvolvemos uma aplicação usando metodos.  O primeiro laço aplicado é conhecido com enquanto e realiza uma estrutura de repetição até uma condição ser insatisfatória. O segundo laçõ é conhecido como para e define a númeração de repetições, defindias por range ou uma condição imposta."
   ]
  },
  {
   "cell_type": "markdown",
   "metadata": {},
   "source": [
    "### Exercício de Fixação\n",
    "No ultimo exercício foi aplicado um método que calculava através da montante o valor pago após o tempo de carência, cobrando a taxa mensal a juros compostos. Crie um algoritmo que calcule o juros simples dentro de um método. Mostre o valor calculado definido nas entradas, o valor da divida e os meses de juros"
   ]
  },
  {
   "cell_type": "code",
   "execution_count": 3,
   "metadata": {},
   "outputs": [
    {
     "name": "stdout",
     "output_type": "stream",
     "text": [
      "A divida será R$ 750.0\n"
     ]
    }
   ],
   "source": [
    "def divida(x,y,z):\n",
    "    res = x + (x*y*z)\n",
    "    return res\n",
    "\n",
    "def __main__ ():\n",
    "    conta = 400\n",
    "    meses = 7\n",
    "    juros = 0.125\n",
    "\n",
    "    print(\"A divida será R$\",divida(conta,meses,juros))\n",
    "\n",
    "__main__()\n"
   ]
  },
  {
   "cell_type": "markdown",
   "metadata": {},
   "source": [
    "### Exercício 01\n",
    "Aplicando os mesmos recursos da atividade anterior desenvolva um programa em que receba a conta, os meses, e os juros compostos e retorne o valor total apos o tempo definido."
   ]
  },
  {
   "cell_type": "code",
   "execution_count": 5,
   "metadata": {},
   "outputs": [
    {
     "name": "stdout",
     "output_type": "stream",
     "text": [
      "A divida será R$ 912.28\n"
     ]
    }
   ],
   "source": [
    "def divida(x,y,z):\n",
    "    res = round(x * (1+z)**y,2)\n",
    "    return res\n",
    "\n",
    "def __main__ ():\n",
    "    conta = 400\n",
    "    meses = 7\n",
    "    juros = 0.125\n",
    "\n",
    "    print(\"A divida será R$\",divida(conta,meses,juros))\n",
    "\n",
    "__main__()"
   ]
  },
  {
   "cell_type": "markdown",
   "metadata": {},
   "source": [
    "### Exercício 02\n",
    "Crie um algoritmo que verifica a idade de uma pessoa.Caso seja maior de dezoito anos liberara um cheque especial. O juro do cheque especial é 7% a juros simples e o valor liberado será de 1200 reais. Os parametros do metodo será idade e o meses de devolução. O algoritmo retornará o valor pago após o período."
   ]
  },
  {
   "cell_type": "code",
   "execution_count": 11,
   "metadata": {},
   "outputs": [
    {
     "name": "stdout",
     "output_type": "stream",
     "text": [
      "R$ 1620.0\n"
     ]
    }
   ],
   "source": [
    "def cheque(x,y):\n",
    "    if(x>=18):\n",
    "        return f\"R$ {1200 + (1200*y*0.07)}\"\n",
    "        \n",
    "    else:\n",
    "        return \"Cheque não autorizado para menores!\"\n",
    "\n",
    "def __main__():\n",
    "    idade = 20\n",
    "    meses = 5\n",
    "    print(cheque(idade,meses))\n",
    "\n",
    "__main__()"
   ]
  }
 ],
 "metadata": {
  "kernelspec": {
   "display_name": "Python 3",
   "language": "python",
   "name": "python3"
  },
  "language_info": {
   "codemirror_mode": {
    "name": "ipython",
    "version": 3
   },
   "file_extension": ".py",
   "mimetype": "text/x-python",
   "name": "python",
   "nbconvert_exporter": "python",
   "pygments_lexer": "ipython3",
   "version": "3.12.0"
  }
 },
 "nbformat": 4,
 "nbformat_minor": 2
}
